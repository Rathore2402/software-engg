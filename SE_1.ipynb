{
  "nbformat": 4,
  "nbformat_minor": 0,
  "metadata": {
    "colab": {
      "provenance": [],
      "authorship_tag": "ABX9TyPkbTn6oNgGI+y0S0hRg7ny",
      "include_colab_link": true
    },
    "kernelspec": {
      "name": "python3",
      "display_name": "Python 3"
    },
    "language_info": {
      "name": "python"
    }
  },
  "cells": [
    {
      "cell_type": "markdown",
      "metadata": {
        "id": "view-in-github",
        "colab_type": "text"
      },
      "source": [
        "<a href=\"https://colab.research.google.com/github/Rathore2402/software-engg/blob/main/SE_1.ipynb\" target=\"_parent\"><img src=\"https://colab.research.google.com/assets/colab-badge.svg\" alt=\"Open In Colab\"/></a>"
      ]
    },
    {
      "cell_type": "code",
      "execution_count": null,
      "metadata": {
        "id": "_JqKvEU763vt"
      },
      "outputs": [],
      "source": [
        "# prompt: a python program for a quadratic eqation\n",
        "\n",
        "import cmath\n",
        "\n",
        "def solve_quadratic_equation(a, b, c):\n",
        "    # Calculate the discriminant\n",
        "    delta = (b**2) - 4*(a*c)\n",
        "\n",
        "    # Find two solutions\n",
        "    if delta >= 0:\n",
        "        x1 = (-b - delta**0.5) / (2*a)\n",
        "        x2 = (-b + delta**0.5) / (2*a)\n",
        "    else:\n",
        "        x1 = (-b - cmath.sqrt(delta)) / (2 * a)\n",
        "        x2 = (-b + cmath.sqrt(delta)) / (2 * a)\n",
        "\n",
        "    if delta >=0 :\n",
        "      return x1, x2\n",
        "    else:\n",
        "      return x1,x2\n",
        "\n",
        "# Example usage\n",
        "a = 1\n",
        "b = 5\n",
        "c = 6\n",
        "x1,x2 = solve_quadratic_equation(a, b, c)\n",
        "print(\"The solutions are {0} and {1}\".format(x1,x2))\n",
        "\n",
        "a = 1\n",
        "b = 2\n",
        "c = 5\n",
        "x1,x2 = solve_quadratic_equation(a, b, c)\n",
        "print(\"The solutions are {0} and {1}\".format(x1,x2))\n"
      ]
    }
  ]
}