{
  "nbformat": 4,
  "nbformat_minor": 0,
  "metadata": {
    "colab": {
      "provenance": [],
      "authorship_tag": "ABX9TyO67t9hsG/zKaTFAA7O8PyB",
      "include_colab_link": true
    },
    "kernelspec": {
      "name": "python3",
      "display_name": "Python 3"
    },
    "language_info": {
      "name": "python"
    }
  },
  "cells": [
    {
      "cell_type": "markdown",
      "metadata": {
        "id": "view-in-github",
        "colab_type": "text"
      },
      "source": [
        "<a href=\"https://colab.research.google.com/github/Rathore2402/software-engg/blob/main/incremental_model.ipynb\" target=\"_parent\"><img src=\"https://colab.research.google.com/assets/colab-badge.svg\" alt=\"Open In Colab\"/></a>"
      ]
    },
    {
      "cell_type": "markdown",
      "source": [
        "Implement incremental modeling* using the quadratic solution in stages: hard-coding variables keyboard input, read from a file, for a single set of input, multiple sets of inputs.\n",
        "a. save all versions, debug, fix problems, create a Github account\n",
        "\n",
        "Implementation outline for weather modeling using a quadratic solution. The approach evolves in stages:\n",
        "\n",
        "Hardcoding variables.\n",
        "Accepting variables via keyboard input.\n",
        "Reading variables from a file.\n",
        "Processing a single set of inputs.\n",
        "Processing multiple sets of inputs. At the end, you will save the versions, debug, fix issues, and push the project to GitHub."
      ],
      "metadata": {
        "id": "J-D9CYM8sve_"
      }
    },
    {
      "cell_type": "code",
      "execution_count": 1,
      "metadata": {
        "colab": {
          "base_uri": "https://localhost:8080/"
        },
        "id": "VFJlih7Trrb6",
        "outputId": "5102396f-c4fd-4dbc-a2a1-3f345be9e392"
      },
      "outputs": [
        {
          "output_type": "stream",
          "name": "stdout",
          "text": [
            "Weather Prediction Quadratic Model\n",
            "Hardcoded: W = 426.00, Category = Sunny\n"
          ]
        }
      ],
      "source": [
        "def calculate_weather_model(T, H, W):\n",
        "    weather_value = 0.5 * T**2 - 0.2 * H + 0.1 * W - 15\n",
        "    return weather_value\n",
        "\n",
        "def categorize_weather(weather_value):\n",
        "    if weather_value >= 20:\n",
        "        return \"Sunny\"\n",
        "    elif 10 <= weather_value < 20:\n",
        "        return \"Cloudy\"\n",
        "    elif 0 <= weather_value < 10:\n",
        "        return \"Rainy\"\n",
        "    else:\n",
        "        return \"Stormy\"\n",
        "\n",
        "def hardcoded_weather_model():\n",
        "    T, H, W = 30, 50, 10  # Example hardcoded values\n",
        "    weather_value = calculate_weather_model(T, H, W)\n",
        "    category = categorize_weather(weather_value)\n",
        "    print(f\"Hardcoded: W = {weather_value:.2f}, Category = {category}\")\n",
        "\n",
        "def main():\n",
        "    print(\"Weather Prediction Quadratic Model\")\n",
        "    hardcoded_weather_model()\n",
        "\n",
        "if __name__ == \"__main__\":\n",
        "    main()\n"
      ]
    },
    {
      "cell_type": "code",
      "source": [
        "def keyboard_weather_model():\n",
        "    T = float(input(\"Enter Temperature (T): \"))\n",
        "    H = float(input(\"Enter Humidity (H): \"))\n",
        "    W = float(input(\"Enter Wind Speed (W): \"))\n",
        "    weather_value = calculate_weather_model(T, H, W)\n",
        "    category = categorize_weather(weather_value)\n",
        "    print(f\"Keyboard Input: W = {weather_value:.2f}, Category = {category}\")\n",
        "\n",
        "def main():\n",
        "    print(\"Weather Prediction Quadratic Model\")\n",
        "    keyboard_weather_model()\n",
        "\n",
        "if __name__ == \"__main__\":\n",
        "    main()\n"
      ],
      "metadata": {
        "colab": {
          "base_uri": "https://localhost:8080/"
        },
        "id": "iNE2aUuTrxtG",
        "outputId": "7874fb23-7820-4d72-8dbf-7efbedf388af"
      },
      "execution_count": 2,
      "outputs": [
        {
          "output_type": "stream",
          "name": "stdout",
          "text": [
            "Weather Prediction Quadratic Model\n",
            "Enter Temperature (T): 4\n",
            "Enter Humidity (H): 5\n",
            "Enter Wind Speed (W): 6\n",
            "Keyboard Input: W = -7.40, Category = Stormy\n"
          ]
        }
      ]
    },
    {
      "cell_type": "code",
      "source": [
        "def file_weather_model():\n",
        "    try:\n",
        "        with open(\"spam.txt\", \"r\") as file:\n",
        "            lines = file.readlines()\n",
        "        for idx, line in enumerate(lines):\n",
        "            T, H, W = map(float, line.strip().split())\n",
        "            weather_value = calculate_weather_model(T, H, W)\n",
        "            category = categorize_weather(weather_value)\n",
        "            print(f\"File Input (Set {idx + 1}): W = {weather_value:.2f}, Category = {category}\")\n",
        "    except FileNotFoundError:\n",
        "        print(\"Error: File 'spam.txt' not found.\")\n",
        "    except ValueError:\n",
        "        print(\"Error: Invalid data format in 'spam.txt'.\")\n",
        "\n",
        "def main():\n",
        "    print(\"Weather Prediction Quadratic Model\")\n",
        "    file_weather_model()\n",
        "\n",
        "if __name__ == \"__main__\":\n",
        "    main()\n",
        "\n",
        "\n",
        "\n"
      ],
      "metadata": {
        "colab": {
          "base_uri": "https://localhost:8080/"
        },
        "id": "tvIszbjusZCE",
        "outputId": "45444512-9934-44ad-f6f1-d3f950b1ca9a"
      },
      "execution_count": 3,
      "outputs": [
        {
          "output_type": "stream",
          "name": "stdout",
          "text": [
            "Weather Prediction Quadratic Model\n",
            "Error: File 'spam.txt' not found.\n"
          ]
        }
      ]
    },
    {
      "cell_type": "code",
      "source": [
        "def single_input_weather_model():\n",
        "    T = float(input(\"Enter Temperature (T): \"))\n",
        "    H = float(input(\"Enter Humidity (H): \"))\n",
        "    W = float(input(\"Enter Wind Speed (W): \"))\n",
        "    weather_value = calculate_weather_model(T, H, W)\n",
        "    category = categorize_weather(weather_value)\n",
        "    print(f\"Single Input: W = {weather_value:.2f}, Category = {category}\")\n",
        "\n",
        "def main():\n",
        "    print(\"Weather Prediction Quadratic Model\")\n",
        "    single_input_weather_model()\n",
        "\n",
        "if __name__ == \"__main__\":\n",
        "    main()\n",
        "\n",
        ""
      ],
      "metadata": {
        "colab": {
          "base_uri": "https://localhost:8080/"
        },
        "id": "fFu0F0D2sdGX",
        "outputId": "de9997da-210a-43bd-9e50-eea05e1f6982"
      },
      "execution_count": 5,
      "outputs": [
        {
          "output_type": "stream",
          "name": "stdout",
          "text": [
            "Weather Prediction Quadratic Model\n",
            "Enter Temperature (T): 7\n",
            "Enter Humidity (H): 9\n",
            "Enter Wind Speed (W): 6\n",
            "Single Input: W = 8.30, Category = Rainy\n"
          ]
        }
      ]
    },
    {
      "cell_type": "code",
      "source": [
        "def multiple_input_weather_model():\n",
        "    num_sets = int(input(\"Enter number of input sets: \"))\n",
        "    for i in range(num_sets):\n",
        "        print(f\"\\nSet {i + 1}:\")\n",
        "        T = float(input(\"Enter Temperature (T): \"))\n",
        "        H = float(input(\"Enter Humidity (H): \"))\n",
        "        W = float(input(\"Enter Wind Speed (W): \"))\n",
        "        weather_value = calculate_weather_model(T, H, W)\n",
        "        category = categorize_weather(weather_value)\n",
        "        print(f\"Set {i + 1}: W = {weather_value:.2f}, Category = {category}\")\n",
        "\n",
        "def main():\n",
        "    print(\"Weather Prediction Quadratic Model\")\n",
        "    multiple_input_weather_model()\n",
        "\n",
        "if __name__ == \"__main__\":\n",
        "    main()"
      ],
      "metadata": {
        "colab": {
          "base_uri": "https://localhost:8080/"
        },
        "id": "9AJvGCJZskVO",
        "outputId": "6c111e86-ffd3-4520-e6cb-f7aab7e8c920"
      },
      "execution_count": 7,
      "outputs": [
        {
          "output_type": "stream",
          "name": "stdout",
          "text": [
            "Weather Prediction Quadratic Model\n",
            "Enter number of input sets: 2\n",
            "\n",
            "Set 1:\n",
            "Enter Temperature (T): 3\n",
            "Enter Humidity (H): 4\n",
            "Enter Wind Speed (W): 5\n",
            "Set 1: W = -10.80, Category = Stormy\n",
            "\n",
            "Set 2:\n",
            "Enter Temperature (T): 8\n",
            "Enter Humidity (H): 12\n",
            "Enter Wind Speed (W): 23\n",
            "Set 2: W = 16.90, Category = Cloudy\n"
          ]
        }
      ]
    }
  ]
}