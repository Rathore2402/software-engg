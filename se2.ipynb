{
  "nbformat": 4,
  "nbformat_minor": 0,
  "metadata": {
    "colab": {
      "provenance": [],
      "authorship_tag": "ABX9TyNRHscKHDMLIgWpRJfakImp",
      "include_colab_link": true
    },
    "kernelspec": {
      "name": "python3",
      "display_name": "Python 3"
    },
    "language_info": {
      "name": "python"
    }
  },
  "cells": [
    {
      "cell_type": "markdown",
      "metadata": {
        "id": "view-in-github",
        "colab_type": "text"
      },
      "source": [
        "<a href=\"https://colab.research.google.com/github/Rathore2402/software-engg/blob/main/se2.ipynb\" target=\"_parent\"><img src=\"https://colab.research.google.com/assets/colab-badge.svg\" alt=\"Open In Colab\"/></a>"
      ]
    },
    {
      "cell_type": "code",
      "source": [
        "# prompt: Implement weather modeling* using the quadratic solution in stages: hard-coding variables with user input values\n",
        "\n",
        "import math\n",
        "\n",
        "def quadratic_weather_model(a, b, c):\n",
        "    \"\"\"\n",
        "    Models weather using a quadratic equation with user-defined coefficients.\n",
        "\n",
        "    Args:\n",
        "        a: Coefficient for the quadratic term.\n",
        "        b: Coefficient for the linear term.\n",
        "        c: Constant term.\n",
        "\n",
        "    Returns:\n",
        "        A tuple containing the two solutions to the quadratic equation, or an error message if no real solutions exist.\n",
        "    \"\"\"\n",
        "\n",
        "    delta = (b**2) - 4*(a*c)\n",
        "\n",
        "    if delta < 0:\n",
        "        return \"No real solutions exist. Please check your input.\"\n",
        "    elif delta == 0:\n",
        "        x = (-b - math.sqrt(delta)) / (2*a)\n",
        "        return x,x\n",
        "    else:\n",
        "        x1 = (-b - math.sqrt(delta)) / (2*a)\n",
        "        x2 = (-b + math.sqrt(delta)) / (2*a)\n",
        "        return x1, x2\n",
        "\n",
        "if __name__ == \"__main__\":\n",
        "\n",
        "    try:\n",
        "        a = float(input(\"Enter coefficient 'a': \"))\n",
        "        b = float(input(\"Enter coefficient 'b': \"))\n",
        "        c = float(input(\"Enter coefficient 'c': \"))\n",
        "\n",
        "        solutions = quadratic_weather_model(a, b, c)\n",
        "        print(\"Solutions:\", solutions)\n",
        "\n",
        "    except ValueError:\n",
        "        print(\"Invalid input. Please enter numeric values.\")"
      ],
      "metadata": {
        "colab": {
          "base_uri": "https://localhost:8080/"
        },
        "id": "7jGrMEQf2PEk",
        "outputId": "612ce633-e1ae-4c86-83f8-71c4e7145f91"
      },
      "execution_count": 3,
      "outputs": [
        {
          "output_type": "stream",
          "name": "stdout",
          "text": [
            "Enter coefficient 'a': 25\n",
            "Enter coefficient 'b': 31\n",
            "Enter coefficient 'c': 23\n",
            "Solutions: No real solutions exist. Please check your input.\n"
          ]
        }
      ]
    }
  ]
}