{
  "nbformat": 4,
  "nbformat_minor": 0,
  "metadata": {
    "colab": {
      "provenance": [],
      "authorship_tag": "ABX9TyPjHtl/u7BxwFCFNJzfMOsb",
      "include_colab_link": true
    },
    "kernelspec": {
      "name": "python3",
      "display_name": "Python 3"
    },
    "language_info": {
      "name": "python"
    }
  },
  "cells": [
    {
      "cell_type": "markdown",
      "metadata": {
        "id": "view-in-github",
        "colab_type": "text"
      },
      "source": [
        "<a href=\"https://colab.research.google.com/github/Rathore2402/software-engg/blob/main/se2_2.ipynb\" target=\"_parent\"><img src=\"https://colab.research.google.com/assets/colab-badge.svg\" alt=\"Open In Colab\"/></a>"
      ]
    },
    {
      "cell_type": "code",
      "execution_count": 1,
      "metadata": {
        "colab": {
          "base_uri": "https://localhost:8080/"
        },
        "id": "oMBktnjG8RqC",
        "outputId": "009df47d-3ff9-4794-c3d6-57d224e3d0f4"
      },
      "outputs": [
        {
          "output_type": "stream",
          "name": "stdout",
          "text": [
            "Enter the temperature: 28\n",
            "Enter the humidity: 25\n",
            "Enter the wind speed: 63\n",
            "The calculated weather metric is: 378.3\n"
          ]
        }
      ],
      "source": [
        "# prompt: Implementation outline for weather modeling using a quadratic solution 0.5t^2-0.2h+0.1w-15 Accepting variables via keyboard input with user input values\n",
        "\n",
        "import math\n",
        "\n",
        "def quadratic_weather_model(t, h, w):\n",
        "    \"\"\"\n",
        "    Calculates a weather metric using a quadratic model.\n",
        "\n",
        "    Args:\n",
        "      t: Temperature.\n",
        "      h: Humidity.\n",
        "      w: Wind speed.\n",
        "\n",
        "    Returns:\n",
        "      The calculated weather metric.\n",
        "    \"\"\"\n",
        "    weather_metric = 0.5 * (t**2) - 0.2 * h + 0.1 * w - 15\n",
        "    return weather_metric\n",
        "\n",
        "\n",
        "if __name__ == \"__main__\":\n",
        "    try:\n",
        "        temperature = float(input(\"Enter the temperature: \"))\n",
        "        humidity = float(input(\"Enter the humidity: \"))\n",
        "        wind_speed = float(input(\"Enter the wind speed: \"))\n",
        "\n",
        "        result = quadratic_weather_model(temperature, humidity, wind_speed)\n",
        "\n",
        "        print(f\"The calculated weather metric is: {result}\")\n",
        "\n",
        "    except ValueError:\n",
        "        print(\"Invalid input. Please enter numeric values for temperature, humidity, and wind speed.\")"
      ]
    }
  ]
}