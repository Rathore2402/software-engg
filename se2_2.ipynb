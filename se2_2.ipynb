{
  "nbformat": 4,
  "nbformat_minor": 0,
  "metadata": {
    "colab": {
      "provenance": [],
      "authorship_tag": "ABX9TyMAy/iYNWAtssjDRXA8IpMb",
      "include_colab_link": true
    },
    "kernelspec": {
      "name": "python3",
      "display_name": "Python 3"
    },
    "language_info": {
      "name": "python"
    }
  },
  "cells": [
    {
      "cell_type": "markdown",
      "metadata": {
        "id": "view-in-github",
        "colab_type": "text"
      },
      "source": [
        "<a href=\"https://colab.research.google.com/github/Rathore2402/software-engg/blob/main/se2_2.ipynb\" target=\"_parent\"><img src=\"https://colab.research.google.com/assets/colab-badge.svg\" alt=\"Open In Colab\"/></a>"
      ]
    },
    {
      "cell_type": "code",
      "execution_count": 1,
      "metadata": {
        "colab": {
          "base_uri": "https://localhost:8080/"
        },
        "id": "XawvVNOA3BHL",
        "outputId": "1ea9e53d-a6b8-480d-9eca-f48280ba1408"
      },
      "outputs": [
        {
          "output_type": "stream",
          "name": "stdout",
          "text": [
            "Enter the coefficient 'a' (must be non-zero): 4\n",
            "Enter the coefficient 'b': 5\n",
            "Enter the coefficient 'c': 3\n",
            "Enter the independent variable value (x): 8\n",
            "\n",
            "Weather Model Result:\n",
            "  For x = 8.0:\n",
            "  y = 299.0\n",
            "Prediction: It's likely to be hot.\n"
          ]
        }
      ],
      "source": [
        "# prompt: mplementation outline for weather modeling using a quadratic solution Accepting variables via keyboard input with user input values\n",
        "\n",
        "import math\n",
        "\n",
        "def quadratic_weather_model():\n",
        "    \"\"\"\n",
        "    A simplified weather model using a quadratic equation.  This is a\n",
        "    demonstration and does not represent a realistic weather prediction model.\n",
        "    \"\"\"\n",
        "\n",
        "    try:\n",
        "\n",
        "        a = float(input(\"Enter the coefficient 'a' (must be non-zero): \"))\n",
        "        if a == 0:\n",
        "            raise ValueError(\"Coefficient 'a' cannot be zero.\")\n",
        "        b = float(input(\"Enter the coefficient 'b': \"))\n",
        "        c = float(input(\"Enter the coefficient 'c': \"))\n",
        "\n",
        "        x = float(input(\"Enter the independent variable value (x): \"))\n",
        "\n",
        "        y = a * x**2 + b * x + c\n",
        "\n",
        "        print(f\"\\nWeather Model Result:\")\n",
        "        print(f\"  For x = {x}:\")\n",
        "        print(f\"  y = {y}\")\n",
        "\n",
        "        if y > 25:\n",
        "            print(\"Prediction: It's likely to be hot.\")\n",
        "        elif y > 10:\n",
        "            print(\"Prediction: It's likely to be pleasant.\")\n",
        "        else:\n",
        "            print(\"Prediction: It's likely to be cold.\")\n",
        "\n",
        "    except ValueError as e:\n",
        "        print(f\"Error: {e}\")\n",
        "    except Exception as e:\n",
        "        print(f\"An unexpected error occurred: {e}\")\n",
        "\n",
        "if __name__ == \"__main__\":\n",
        "    quadratic_weather_model()"
      ]
    }
  ]
}