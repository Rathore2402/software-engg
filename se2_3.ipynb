{
  "nbformat": 4,
  "nbformat_minor": 0,
  "metadata": {
    "colab": {
      "provenance": [],
      "authorship_tag": "ABX9TyPs3/IyZkb5v5Rrecr8TMUa",
      "include_colab_link": true
    },
    "kernelspec": {
      "name": "python3",
      "display_name": "Python 3"
    },
    "language_info": {
      "name": "python"
    }
  },
  "cells": [
    {
      "cell_type": "markdown",
      "metadata": {
        "id": "view-in-github",
        "colab_type": "text"
      },
      "source": [
        "<a href=\"https://colab.research.google.com/github/Rathore2402/software-engg/blob/main/se2_3.ipynb\" target=\"_parent\"><img src=\"https://colab.research.google.com/assets/colab-badge.svg\" alt=\"Open In Colab\"/></a>"
      ]
    },
    {
      "cell_type": "code",
      "execution_count": 1,
      "metadata": {
        "colab": {
          "base_uri": "https://localhost:8080/"
        },
        "id": "j1YOSrZ-86m4",
        "outputId": "51141a35-56d0-4215-90e1-f118c1ef522c"
      },
      "outputs": [
        {
          "output_type": "stream",
          "name": "stdout",
          "text": [
            "Enter the temperature in Celsius: 36\n",
            "Enter the relative humidity (percentage): 24\n",
            "Enter the wind speed in meters per second: 45\n",
            "The calculated weather index is: 632.7\n"
          ]
        }
      ],
      "source": [
        "# prompt: Implementation outline for weather modeling using a quadratic solution 0.5t^2-0.2h+0.1w-15 Processing a single set of inputs with user input values\n",
        "\n",
        "def calculate_weather_index(temperature, humidity, wind_speed):\n",
        "  \"\"\"Calculates a weather index using a quadratic equation.\n",
        "\n",
        "  Args:\n",
        "    temperature: The temperature in Celsius.\n",
        "    humidity: The relative humidity (percentage).\n",
        "    wind_speed: The wind speed in meters per second.\n",
        "\n",
        "  Returns:\n",
        "    The calculated weather index.\n",
        "  \"\"\"\n",
        "  index = 0.5 * (temperature ** 2) - 0.2 * humidity + 0.1 * wind_speed - 15\n",
        "  return index\n",
        "\n",
        "\n",
        "if __name__ == \"__main__\":\n",
        "  try:\n",
        "    temperature = float(input(\"Enter the temperature in Celsius: \"))\n",
        "    humidity = float(input(\"Enter the relative humidity (percentage): \"))\n",
        "    wind_speed = float(input(\"Enter the wind speed in meters per second: \"))\n",
        "\n",
        "    weather_index = calculate_weather_index(temperature, humidity, wind_speed)\n",
        "\n",
        "    print(f\"The calculated weather index is: {weather_index}\")\n",
        "\n",
        "  except ValueError:\n",
        "    print(\"Invalid input. Please enter numeric values.\")"
      ]
    }
  ]
}