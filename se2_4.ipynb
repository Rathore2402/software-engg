{
  "nbformat": 4,
  "nbformat_minor": 0,
  "metadata": {
    "colab": {
      "provenance": [],
      "authorship_tag": "ABX9TyO/C6LVx2nGZ6i3hl18pAq4",
      "include_colab_link": true
    },
    "kernelspec": {
      "name": "python3",
      "display_name": "Python 3"
    },
    "language_info": {
      "name": "python"
    }
  },
  "cells": [
    {
      "cell_type": "markdown",
      "metadata": {
        "id": "view-in-github",
        "colab_type": "text"
      },
      "source": [
        "<a href=\"https://colab.research.google.com/github/Rathore2402/software-engg/blob/main/se2_4.ipynb\" target=\"_parent\"><img src=\"https://colab.research.google.com/assets/colab-badge.svg\" alt=\"Open In Colab\"/></a>"
      ]
    },
    {
      "cell_type": "code",
      "execution_count": 2,
      "metadata": {
        "colab": {
          "base_uri": "https://localhost:8080/"
        },
        "id": "vWWF9W10-gl3",
        "outputId": "da5742cf-0699-4d5e-ddf9-cd078f1cb1fc"
      },
      "outputs": [
        {
          "output_type": "stream",
          "name": "stdout",
          "text": [
            "Enter the number of weather data sets: 2\n",
            "\n",
            "Enter data for set 1:\n",
            "Temperature (Celsius): 21\n",
            "Humidity (%): 23\n",
            "Wind speed (m/s): 25\n",
            "Weather index: 203.4\n",
            "\n",
            "Enter data for set 2:\n",
            "Temperature (Celsius): 41\n",
            "Humidity (%): 12\n",
            "Wind speed (m/s): 17\n",
            "Weather index: 824.8000000000001\n"
          ]
        }
      ],
      "source": [
        "# prompt: Implementation outline for weather modeling using a quadratic solution  0.5t^2-0.2h+0.1w-15 Processing multiple sets of inputs with user inputs\n",
        "\n",
        "def calculate_weather_index(temperature, humidity, wind_speed):\n",
        "  \"\"\"Calculates a weather index using a quadratic model.\n",
        "\n",
        "  Args:\n",
        "    temperature: The temperature in Celsius.\n",
        "    humidity: The relative humidity (percentage).\n",
        "    wind_speed: The wind speed in meters per second.\n",
        "\n",
        "  Returns:\n",
        "    The calculated weather index.\n",
        "  \"\"\"\n",
        "  index = 0.5 * (temperature**2) - 0.2 * humidity + 0.1 * wind_speed - 15\n",
        "  return index\n",
        "\n",
        "def main():\n",
        "  \"\"\"Processes multiple weather data sets from user input.\"\"\"\n",
        "\n",
        "  num_sets = int(input(\"Enter the number of weather data sets: \"))\n",
        "\n",
        "  for i in range(num_sets):\n",
        "    print(f\"\\nEnter data for set {i + 1}:\")\n",
        "    try:\n",
        "      temperature = float(input(\"Temperature (Celsius): \"))\n",
        "      humidity = float(input(\"Humidity (%): \"))\n",
        "      wind_speed = float(input(\"Wind speed (m/s): \"))\n",
        "\n",
        "      weather_index = calculate_weather_index(temperature, humidity, wind_speed)\n",
        "\n",
        "      print(f\"Weather index: {weather_index}\")\n",
        "\n",
        "    except ValueError:\n",
        "      print(\"Invalid input. Please enter numerical values.\")\n",
        "\n",
        "\n",
        "if __name__ == \"__main__\":\n",
        "  main()"
      ]
    }
  ]
}