{
  "nbformat": 4,
  "nbformat_minor": 0,
  "metadata": {
    "colab": {
      "provenance": [],
      "authorship_tag": "ABX9TyPrgeOVqkAW6w54F0hjFJkT",
      "include_colab_link": true
    },
    "kernelspec": {
      "name": "python3",
      "display_name": "Python 3"
    },
    "language_info": {
      "name": "python"
    }
  },
  "cells": [
    {
      "cell_type": "markdown",
      "metadata": {
        "id": "view-in-github",
        "colab_type": "text"
      },
      "source": [
        "<a href=\"https://colab.research.google.com/github/Rathore2402/software-engg/blob/main/se3_1.ipynb\" target=\"_parent\"><img src=\"https://colab.research.google.com/assets/colab-badge.svg\" alt=\"Open In Colab\"/></a>"
      ]
    },
    {
      "cell_type": "code",
      "execution_count": 1,
      "metadata": {
        "colab": {
          "base_uri": "https://localhost:8080/"
        },
        "id": "kW9qGfbMCbvd",
        "outputId": "14c5f7e7-a65b-4deb-9b71-2aa6fd33da6a"
      },
      "outputs": [
        {
          "output_type": "stream",
          "name": "stdout",
          "text": [
            "Roots of the quadratic equation are: [1.0, 1.01, 1.99, 2.0]\n"
          ]
        }
      ],
      "source": [
        "def solve_quadratic(a, b, c, increment=0.01):\n",
        "    if a == 0:\n",
        "        raise ValueError(\"Coefficient 'a' cannot be zero.\")\n",
        "\n",
        "    x = -10\n",
        "    roots = []\n",
        "\n",
        "    while x <= 10:\n",
        "\n",
        "        value = a * x ** 2 + b * x + c\n",
        "\n",
        "        if abs(value) < increment:\n",
        "            roots.append(round(x, 2))\n",
        "        x += increment\n",
        "\n",
        "    return roots\n",
        "\n",
        "a = 1\n",
        "b = -3\n",
        "c = 2\n",
        "\n",
        "roots = solve_quadratic(a, b, c)\n",
        "print(\"Roots of the quadratic equation are:\", roots)"
      ]
    }
  ]
}