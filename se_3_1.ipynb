{
  "nbformat": 4,
  "nbformat_minor": 0,
  "metadata": {
    "colab": {
      "provenance": [],
      "authorship_tag": "ABX9TyMP1/9au/S1xOIMYQYZW21X",
      "include_colab_link": true
    },
    "kernelspec": {
      "name": "python3",
      "display_name": "Python 3"
    },
    "language_info": {
      "name": "python"
    }
  },
  "cells": [
    {
      "cell_type": "markdown",
      "metadata": {
        "id": "view-in-github",
        "colab_type": "text"
      },
      "source": [
        "<a href=\"https://colab.research.google.com/github/Rathore2402/software-engg/blob/main/se_3_1.ipynb\" target=\"_parent\"><img src=\"https://colab.research.google.com/assets/colab-badge.svg\" alt=\"Open In Colab\"/></a>"
      ]
    },
    {
      "cell_type": "code",
      "execution_count": 1,
      "metadata": {
        "colab": {
          "base_uri": "https://localhost:8080/"
        },
        "id": "kW9qGfbMCbvd",
        "outputId": "14c5f7e7-a65b-4deb-9b71-2aa6fd33da6a"
      },
      "outputs": [
        {
          "output_type": "stream",
          "name": "stdout",
          "text": [
            "Roots of the quadratic equation are: [1.0, 1.01, 1.99, 2.0]\n"
          ]
        }
      ],
      "source": [
        "def solve_quadratic(a, b, c, increment=0.01):\n",
        "    if a == 0:\n",
        "        raise ValueError(\"Coefficient 'a' cannot be zero.\")\n",
        "\n",
        "    x = -10  # Starting point for incrementation\n",
        "    roots = []\n",
        "\n",
        "    # Loop to find roots in the range -10 to 10\n",
        "    while x <= 10:\n",
        "        # Calculate the value of the quadratic equation at x\n",
        "        value = a * x ** 2 + b * x + c\n",
        "\n",
        "        if abs(value) < increment:  # Close enough to zero\n",
        "            roots.append(round(x, 2))  # Store the root rounded to 2 decimal places\n",
        "\n",
        "        x += increment  # Increment x\n",
        "\n",
        "    return roots\n",
        "\n",
        "# Example usage\n",
        "a = 1\n",
        "b = -3\n",
        "c = 2\n",
        "\n",
        "roots = solve_quadratic(a, b, c)\n",
        "print(\"Roots of the quadratic equation are:\", roots)"
      ]
    }
  ]
}